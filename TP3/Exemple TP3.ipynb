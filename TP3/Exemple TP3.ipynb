{
 "cells": [
  {
   "cell_type": "markdown",
   "id": "6de13ebc",
   "metadata": {},
   "source": [
    "<h1>Qui a éteint la lumière ?</h1>\n",
    "\n",
    "<p>Brr, il fait tout noir sur ce site, c'est un peu <mark>inquiétant</mark> comme ambiance non vous trouvez pas ?</p>\n",
    "\n",
    "\n",
    "\n",
    "* premier point\n",
    "    - sous point\n",
    "        - sous sous point\n",
    "        \n",
    "<b>ce texte est en gras </b>\n",
    "\n",
    "**ce texte est aussi en gras**\n",
    "\n",
    "\n",
    "\n"
   ]
  },
  {
   "cell_type": "code",
   "execution_count": 25,
   "id": "9e4feb19",
   "metadata": {},
   "outputs": [],
   "source": [
    "%matplotlib inline\n",
    "import ipywidgets as widgets\n",
    "import matplotlib.pyplot as plt\n",
    "import numpy as np\n",
    "from numpy import *\n",
    "from ipywidgets import interact, interactive, fixed, interact_manual\n",
    "import ipywidgets as widgets"
   ]
  },
  {
   "cell_type": "code",
   "execution_count": 26,
   "id": "a2965915",
   "metadata": {},
   "outputs": [],
   "source": [
    "class RectangleG ( object ) :\n",
    "    def __init__ (self , a , b , n , f ) :\n",
    "        self.a = a\n",
    "        self.b = b\n",
    "        self.x = np.linspace( a , b , n+1 )\n",
    "        self.f = f\n",
    "        self.n = n\n",
    "    def integrate ( self , f ) :\n",
    "        x= self.x\n",
    "        y= f( x )\n",
    "        h = float( x[1] - x[0] )\n",
    "        s = sum( y[ 0 : -1 ] )\n",
    "        return h * s\n",
    "    def Graph ( self , f , resolution =1001 ) :\n",
    "        xl = self.x\n",
    "        yl = f(xl)\n",
    "        xlist_fine =np.linspace( self.a , self.b , resolution )\n",
    "        for i in range ( self.n ) :\n",
    "            x_rect = [xl[ i ] , xl[ i ] , xl[ i + 1 ] , xl[i+1] , xl[ i ] ] # abscisses des sommets\n",
    "            y_rect = [0 , yl[ i ] , yl[ i ] , 0 , 0 ] # ordonnees des sommets\n",
    "            plt.plot ( x_rect , y_rect , 'r' )\n",
    "        yflist_fine = f ( xlist_fine )\n",
    "        _=plt.plot ( xlist_fine , yflist_fine )\n",
    "        _=plt.plot(xl, yl,\"bo\")\n",
    "        _=plt.xlabel ( 'x' )\n",
    "        _=plt.ylabel ( ' f ( x ) ' )\n",
    "        _=plt.title ( ' Methode des rectangles gauches' )\n",
    "        #plt.text( 0.5*( self.a+ self.b ) , f(self.b ) , 'I_{} ={:0.8f}'.format(self.n,self.integrate( f ) ) , fontsize =15 )\n",
    "        plt.show()"
   ]
  },
  {
   "cell_type": "code",
   "execution_count": 31,
   "id": "ca9f7a9a",
   "metadata": {},
   "outputs": [],
   "source": [
    "class Trapezoidal(object):\n",
    "    def __init__(self, a, b, n, f):\n",
    "        self.a = a\n",
    "        self.b = b\n",
    "        self.x = np.linspace(a, b, n+1)\n",
    "        self.f = f\n",
    "        self.n = n\n",
    "    def integrate(self,f):\n",
    "        x=self.x\n",
    "        y=f(x)\n",
    "        h = float(x[1] - x[0])\n",
    "        s = y[0] + y[-1] + 2.0*sum(y[1:-1])\n",
    "        return h * s / 2.0\n",
    "    def Graph(self,f,resolution=1001):\n",
    "        xl = self.x\n",
    "        yl = f(xl)\n",
    "        xlist_fine=np.linspace(self.a, self.b, resolution)\n",
    "        for i in range(self.n):\n",
    "            x_rect = [xl[i], xl[i], xl[i+1], xl[i+1], xl[i]] # abscisses des sommets\n",
    "            y_rect = [0   , yl[i], yl[i+1]  , 0     , 0   ] # ordonnees des sommets\n",
    "            plt.plot(x_rect, y_rect,\"m\")\n",
    "        yflist_fine = f(xlist_fine)\n",
    "        plt.plot(xlist_fine, yflist_fine)#plot de f(x)\n",
    "        plt.plot(xl, yl,\"cs\")#point support\n",
    "        plt.ylabel ( ' f ( x ) ' )\n",
    "        plt.title ( ' Methode des Trapèzes' )\n",
    "        #plt.text( 0.5*( self.a+ self.b ) , f(self.b ) , 'I_{} ={:0.8f}'.format(self.n,self.integrate( f ) ) , fontsize =15 )"
   ]
  },
  {
   "cell_type": "code",
   "execution_count": 42,
   "id": "c56d7819",
   "metadata": {},
   "outputs": [],
   "source": [
    "from scipy.integrate import quad\n"
   ]
  },
  {
   "cell_type": "code",
   "execution_count": null,
   "id": "f04c3cbb",
   "metadata": {},
   "outputs": [],
   "source": []
  },
  {
   "cell_type": "code",
   "execution_count": 49,
   "id": "bc4a3014",
   "metadata": {
    "scrolled": true
   },
   "outputs": [
    {
     "data": {
      "application/vnd.jupyter.widget-view+json": {
       "model_id": "978d44a7637b401c867c093204382c11",
       "version_major": 2,
       "version_minor": 0
      },
      "text/plain": [
       "interactive(children=(Dropdown(description='methode', options=('Trapèze', 'Rectangle'), value='Trapèze'), Floa…"
      ]
     },
     "metadata": {},
     "output_type": "display_data"
    }
   ],
   "source": [
    "@interact(methode=['Trapèze','Rectangle'],\n",
    "          a=-np.pi,b=np.pi,\n",
    "          n=[5,25,50],\n",
    "          f={'f(x)=sin(x)':lambda x:np.sin(x),'g(x)=x**2+x-1':lambda x:x**2+x-1})\n",
    "def test(methode,a,b,n,f):\n",
    "    I = quad(f, a, b)[0]\n",
    "    meth={'Trapèze':Trapezoidal,'Rectangle':RectangleG}\n",
    "    M=meth[methode](a,b,n,f)\n",
    "    print('l'' intégrale avec la méthode {}= {}'.format(methode,M.integrate(f)))\n",
    "    print('l'' erreur d''intégration = {}'.format(I-M.integrate(f)))\n",
    "    M.Graph(f)\n",
    "    plt.show()\n",
    "\n",
    "    "
   ]
  },
  {
   "cell_type": "code",
   "execution_count": 24,
   "id": "6996499c",
   "metadata": {},
   "outputs": [
    {
     "data": {
      "application/vnd.jupyter.widget-view+json": {
       "model_id": "ca04bd7ce9734fdda03d5127416b63f7",
       "version_major": 2,
       "version_minor": 0
      },
      "text/html": [
       "\n",
       "            <div style=\"display: inline-block;\">\n",
       "                <div class=\"jupyter-widgets widget-label\" style=\"text-align: center;\">\n",
       "                    Figure\n",
       "                </div>\n",
       "                <img src='data:image/png;base64,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' width=640.0/>\n",
       "            </div>\n",
       "        "
      ],
      "text/plain": [
       "Canvas(toolbar=Toolbar(toolitems=[('Home', 'Reset original view', 'home', 'home'), ('Back', 'Back to previous …"
      ]
     },
     "metadata": {},
     "output_type": "display_data"
    }
   ],
   "source": [
    "plt.show()"
   ]
  },
  {
   "cell_type": "code",
   "execution_count": null,
   "id": "f173d7f7",
   "metadata": {},
   "outputs": [],
   "source": []
  }
 ],
 "metadata": {
  "kernelspec": {
   "display_name": "Python 3",
   "language": "python",
   "name": "python3"
  },
  "language_info": {
   "codemirror_mode": {
    "name": "ipython",
    "version": 3
   },
   "file_extension": ".py",
   "mimetype": "text/x-python",
   "name": "python",
   "nbconvert_exporter": "python",
   "pygments_lexer": "ipython3",
   "version": "3.8.8"
  }
 },
 "nbformat": 4,
 "nbformat_minor": 5
}
